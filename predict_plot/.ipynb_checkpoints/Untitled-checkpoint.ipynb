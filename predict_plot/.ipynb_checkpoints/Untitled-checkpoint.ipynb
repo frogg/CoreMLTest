{
 "cells": [
  {
   "cell_type": "code",
   "execution_count": 1,
   "metadata": {},
   "outputs": [],
   "source": [
    "import coremltools"
   ]
  },
  {
   "cell_type": "code",
   "execution_count": null,
   "metadata": {},
   "outputs": [],
   "source": [
    "import coremltools\n",
    "model_location = 'snapshots/itracker25x_iter_92000.caffemodel'\n",
    "prototext_location = 'dep.prototxt'\n",
    "mean_location = {\n",
    "    'image_face': 'mean_images/mean_face_224.binaryproto',\n",
    "    'image_left': 'mean_images/mean_left_224.binaryproto',\n",
    "    'image_right': 'mean_images/mean_right_224.binaryproto'\n",
    "}\n",
    "img_input = ['image_face', 'image_left', 'image_right']\n",
    "coreml_model = coremltools.converters.caffe.convert((model_location\n",
    ", prototext_location, mean_location)\n",
    "# , is_bgr=True\n",
    ", image_input_names=img_input\n",
    "# , image_scale=255\n",
    ")\n",
    "# coreml_model.save('Itracker_no_bgr.mlmodel')\n"
   ]
  },
  {
   "cell_type": "code",
   "execution_count": null,
   "metadata": {},
   "outputs": [],
   "source": []
  }
 ],
 "metadata": {
  "kernelspec": {
   "display_name": "Python 2",
   "language": "python",
   "name": "python2"
  },
  "language_info": {
   "codemirror_mode": {
    "name": "ipython",
    "version": 2
   },
   "file_extension": ".py",
   "mimetype": "text/x-python",
   "name": "python",
   "nbconvert_exporter": "python",
   "pygments_lexer": "ipython2",
   "version": "2.7.13"
  }
 },
 "nbformat": 4,
 "nbformat_minor": 2
}
