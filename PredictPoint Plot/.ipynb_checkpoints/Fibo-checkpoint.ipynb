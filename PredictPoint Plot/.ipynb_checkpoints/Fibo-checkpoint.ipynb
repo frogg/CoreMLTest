{
 "cells": [
  {
   "cell_type": "code",
   "execution_count": null,
   "metadata": {},
   "outputs": [],
   "source": []
  },
  {
   "cell_type": "markdown",
   "metadata": {},
   "source": [
    "# Hello"
   ]
  },
  {
   "cell_type": "code",
   "execution_count": 10,
   "metadata": {},
   "outputs": [],
   "source": [
    "import numpy as np"
   ]
  },
  {
   "cell_type": "markdown",
   "metadata": {},
   "source": [
    "## Dynamic fibo"
   ]
  },
  {
   "cell_type": "code",
   "execution_count": 11,
   "metadata": {},
   "outputs": [
    {
     "name": "stdout",
     "output_type": "stream",
     "text": [
      "(14930352, 24157817)\n",
      "None\n"
     ]
    }
   ],
   "source": [
    "def fibo(j):\n",
    "    a,b = 1, 1\n",
    "    for _ in range(j):\n",
    "        a, b = b, a+b\n",
    "    print(a,b)\n",
    "print(fibo(35))"
   ]
  },
  {
   "cell_type": "code",
   "execution_count": 12,
   "metadata": {},
   "outputs": [
    {
     "name": "stdout",
     "output_type": "stream",
     "text": [
      "9227465\n"
     ]
    }
   ],
   "source": [
    "mem = {1: 1, 2: 1}\n",
    "def refibo(i):\n",
    "    if i not in mem:\n",
    "        mem[i] = refibo(i-1) + refibo(i-2)\n",
    "    return mem[i]\n",
    "print(refibo(35))"
   ]
  },
  {
   "cell_type": "code",
   "execution_count": 13,
   "metadata": {},
   "outputs": [
    {
     "name": "stdout",
     "output_type": "stream",
     "text": [
      "9227465\n"
     ]
    }
   ],
   "source": [
    "def normalfibo(i):\n",
    "    if i <= 2:\n",
    "        return 1\n",
    "    else:\n",
    "        return normalfibo(i-1) + normalfibo(i-2)\n",
    "print(normalfibo(35))"
   ]
  },
  {
   "cell_type": "code",
   "execution_count": null,
   "metadata": {},
   "outputs": [],
   "source": []
  }
 ],
 "metadata": {
  "kernelspec": {
   "display_name": "Python 2",
   "language": "python",
   "name": "python2"
  },
  "language_info": {
   "codemirror_mode": {
    "name": "ipython",
    "version": 2
   },
   "file_extension": ".py",
   "mimetype": "text/x-python",
   "name": "python",
   "nbconvert_exporter": "python",
   "pygments_lexer": "ipython2",
   "version": "2.7.13"
  }
 },
 "nbformat": 4,
 "nbformat_minor": 2
}
